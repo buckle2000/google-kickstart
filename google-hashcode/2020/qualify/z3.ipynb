{
 "cells": [
  {
   "cell_type": "code",
   "execution_count": null,
   "metadata": {},
   "outputs": [],
   "source": [
    "# load data\n",
    "#input_file = \"inputs/a_example.json\"\n",
    "input_file = \"inputs/b_read_on.json\"\n",
    "\n",
    "import json\n",
    "from collections import namedtuple\n",
    "\n",
    "Library = namedtuple(\"Library\", [\"books\", \"speed\", \"cost\"])\n",
    "\n",
    "def to_library(o):\n",
    "    return Library(o[\"books\"], o[\"scanSpeed\"], o[\"signupCost\"])\n",
    "\n",
    "o = json.load(open(input_file))\n",
    "scores = o[\"scores\"]\n",
    "libraries = list(map(to_library, o[\"libraries\"]))\n",
    "L = len(libraries)\n",
    "D = o[\"days\"]\n",
    "B = len(scores)"
   ]
  },
  {
   "cell_type": "code",
   "execution_count": 2,
   "metadata": {},
   "outputs": [],
   "source": [
    "# Define constraints\n",
    "from z3 import *\n",
    "\n",
    "def z3_max(x,y):\n",
    "    return If(x > y, x, y)\n",
    "\n",
    "def z3_min(x,y):\n",
    "    return If(x < y, x, y)\n",
    "\n",
    "def z3_sum_of_bools(bools):\n",
    "    \"\"\"Sum of Bools\"\"\"\n",
    "    return Sum([If(b, 1, 0) for b in bools])\n",
    "\n",
    "s = Optimize()\n",
    "\n",
    "scan_orders = IntVector(\"order\", L)\n",
    "for i, order in enumerate(scan_orders):\n",
    "    s.add(order >= 0)\n",
    "    s.add(order < L)\n",
    "    for order_other in scan_orders[i+1:]:\n",
    "        s.add(order != order_other)\n",
    "\n",
    "books_sent = [[] for i in range(B)]\n",
    "books_sent_by_lib = []\n",
    "for i, order in enumerate(scan_orders):\n",
    "    days_took_waiting = 0\n",
    "    for j, order_other in enumerate(scan_orders):\n",
    "        days_took_waiting += (order >= order_other) * libraries[j].cost\n",
    "    lib = libraries[i]\n",
    "    max_num_books_sent = z3_max(0, D - days_took_waiting) * lib.speed\n",
    "    # books_sent = choose(libraries[i], librarnum_books_sent)\n",
    "    lib_books_sent = BoolVector(f\"sent_{i}\", len(lib.books))\n",
    "    books_sent_by_lib.append(lib_books_sent)\n",
    "    s.add(z3_sum_of_bools(lib_books_sent) <= max_num_books_sent)\n",
    "    for k, book in enumerate(lib.books):\n",
    "        books_sent[book].append(lib_books_sent[k])"
   ]
  },
  {
   "cell_type": "code",
   "execution_count": null,
   "metadata": {},
   "outputs": [],
   "source": [
    "# Define score function\n",
    "score = 0\n",
    "for i, list_sent in enumerate(books_sent):\n",
    "    score += If(Or(list_sent), scores[i], 0)\n",
    "score_obj = s.maximize(score)"
   ]
  },
  {
   "cell_type": "code",
   "execution_count": null,
   "metadata": {},
   "outputs": [],
   "source": [
    "# Solve\n",
    "if s.check() == sat:\n",
    "    print(\"score:\", score_obj.value())"
   ]
  },
  {
   "cell_type": "code",
   "execution_count": null,
   "metadata": {},
   "outputs": [],
   "source": [
    "# Get results\n",
    "model = s.model()\n",
    "res_scan_orders = [model.eval(order).as_long() for order in scan_orders]\n",
    "res_sent = [[bool(model.eval(b)) for b in books_sent_lib] for books_sent_lib in books_sent_by_lib]\n",
    "res_signed_up = [any(rr) for rr in res_sent]"
   ]
  },
  {
   "cell_type": "code",
   "execution_count": null,
   "metadata": {},
   "outputs": [],
   "source": [
    "# Inspect\n",
    "print(res_scan_orders)\n",
    "print(res_sent)\n",
    "print(res_signed_up)"
   ]
  },
  {
   "cell_type": "code",
   "execution_count": null,
   "metadata": {},
   "outputs": [],
   "source": [
    "# Output\n",
    "import numpy as np\n",
    "print(sum(res_signed_up))\n",
    "for lib_id in np.argsort(res_scan_orders):\n",
    "    lib = libraries[lib_id]\n",
    "    res_sent_this = res_sent[lib_id]\n",
    "    res_sent_sum = sum(res_sent_this)\n",
    "    if res_sent_sum > 0:\n",
    "        print(lib_id, res_sent_sum)\n",
    "        books_scanned = []\n",
    "        for b, res_sent_book in enumerate(res_sent_this):\n",
    "            if res_sent_book:\n",
    "                books_scanned.append(lib.books[b])\n",
    "        print(*books_scanned)"
   ]
  }
 ],
 "metadata": {
  "kernelspec": {
   "display_name": "Python 3",
   "language": "python",
   "name": "python3"
  },
  "language_info": {
   "codemirror_mode": {
    "name": "ipython",
    "version": 3
   },
   "file_extension": ".py",
   "mimetype": "text/x-python",
   "name": "python",
   "nbconvert_exporter": "python",
   "pygments_lexer": "ipython3",
   "version": "3.8.3"
  }
 },
 "nbformat": 4,
 "nbformat_minor": 4
}
